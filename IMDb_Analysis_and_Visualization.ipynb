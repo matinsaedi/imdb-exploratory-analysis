{
  "cells": [
    {
      "cell_type": "markdown",
      "source": [
        "# ✅ **Importing Libraries**"
      ],
      "metadata": {
        "id": "b_d_9q6WBMqS"
      }
    },
    {
      "cell_type": "code",
      "execution_count": null,
      "metadata": {
        "collapsed": true,
        "id": "srZBnytfUGPM"
      },
      "outputs": [],
      "source": [
        "!pip install opendatasets"
      ]
    },
    {
      "cell_type": "code",
      "execution_count": null,
      "metadata": {
        "id": "yHCjX4Tj5y6U"
      },
      "outputs": [],
      "source": [
        "import os\n",
        "import pandas as pd\n",
        "import numpy as np\n",
        "import matplotlib.pyplot as plt\n",
        "import seaborn as sns\n",
        "import plotly.express as px\n",
        "import opendatasets as od\n",
        "import matplotlib.pyplot as plt\n",
        "import warnings\n",
        "import ast\n",
        "from sklearn.linear_model import LinearRegression\n",
        "from sklearn.preprocessing import MinMaxScaler, LabelEncoder, StandardScaler\n",
        "from sklearn.model_selection import cross_val_score, train_test_split, cross_val_predict\n",
        "from sklearn.ensemble import RandomForestRegressor\n",
        "from xgboost import XGBRegressor\n",
        "from sklearn.metrics import mean_absolute_error, r2_score, mean_squared_error\n",
        "from collections import Counter\n",
        "warnings.filterwarnings('ignore')"
      ]
    },
    {
      "cell_type": "markdown",
      "source": [
        "# ✅ **Step 1: Downloading the Datasets from Kaggle and IMDb**"
      ],
      "metadata": {
        "id": "gA3ffhcNAtJW"
      }
    },
    {
      "cell_type": "code",
      "source": [
        "os.environ['KAGGLE_USERNAME'] = 'eecs6414demo'\n",
        "os.environ['KAGGLE_KEY'] = '80efa062e4f523f6dd92f8433d23441c'\n",
        "\n",
        "!kaggle datasets download -d anandshaw2001/imdb-data\n",
        "!unzip imdb-data.zip -d imdb-data"
      ],
      "metadata": {
        "id": "TJm2q7e9_qJR"
      },
      "execution_count": null,
      "outputs": []
    },
    {
      "cell_type": "code",
      "execution_count": null,
      "metadata": {
        "id": "9hLrth_sooTG"
      },
      "outputs": [],
      "source": [
        "!gdown https://datasets.imdbws.com/title.ratings.tsv.gz\n",
        "!gdown https://datasets.imdbws.com/title.basics.tsv.gz\n",
        "!gdown https://datasets.imdbws.com/title.crew.tsv.gz\n",
        "!gdown https://datasets.imdbws.com/name.basics.tsv.gz"
      ]
    },
    {
      "cell_type": "code",
      "execution_count": null,
      "metadata": {
        "id": "xzFOFrmv7v5k"
      },
      "outputs": [],
      "source": [
        "kaggle_file_path = ('/content/imdb-data/Imdb Movie Dataset.csv')\n",
        "kaggle_df = pd.read_csv(kaggle_file_path, usecols=['imdb_id', 'revenue', 'budget', 'original_language',\t'overview',\t'production_companies',\t'production_countries',\t'keywords'])\n",
        "print(kaggle_df.shape)"
      ]
    },
    {
      "cell_type": "code",
      "execution_count": null,
      "metadata": {
        "id": "51SiMh8inIbw"
      },
      "outputs": [],
      "source": [
        "title_rating_df = pd.read_csv(('/content/title.ratings.tsv.gz'), sep='\\t')\n",
        "title_basics_df = pd.read_csv(('/content/title.basics.tsv.gz'), sep='\\t', usecols=['tconst', 'titleType', 'primaryTitle', 'startYear', 'runtimeMinutes', 'genres'])\n",
        "title_crew_df = pd.read_csv(('/content/title.crew.tsv.gz'), sep='\\t')\n",
        "name_basics_df = pd.read_csv('/content/name.basics.tsv.gz', sep='\\t', usecols=['nconst', 'primaryName'])"
      ]
    },
    {
      "cell_type": "markdown",
      "metadata": {
        "id": "QTGNfzA-nCno"
      },
      "source": [
        "# ✅ **Step 2: Preprocessing**"
      ]
    },
    {
      "cell_type": "code",
      "execution_count": null,
      "metadata": {
        "id": "vk6YUU2MfuNr"
      },
      "outputs": [],
      "source": [
        "# Merge title_crew_df with name_basics_df to get director names\n",
        "title_crew_df = pd.merge(title_crew_df, name_basics_df, left_on='directors', right_on='nconst', how='left')\n",
        "title_crew_df.rename(columns={'primaryName': 'director_name'}, inplace=True)\n",
        "\n",
        "# Merge title_crew_df with name_basics_df again to get writer names\n",
        "title_crew_df = pd.merge(title_crew_df, name_basics_df, left_on='writers', right_on='nconst', how='left')\n",
        "title_crew_df.rename(columns={'primaryName': 'writer_name'}, inplace=True)\n",
        "\n",
        "# Replace 'directors' column with 'director_name'\n",
        "title_crew_df['directors'] = title_crew_df['director_name']\n",
        "\n",
        "# Replace 'writers' column with 'writer_name'\n",
        "title_crew_df['writers'] = title_crew_df['writer_name']\n",
        "\n",
        "# Drop unnecessary columns\n",
        "title_crew_df.drop(columns=['director_name','writer_name',], inplace=True, errors='ignore')\n",
        "\n",
        "print(title_crew_df.head())"
      ]
    },
    {
      "cell_type": "code",
      "execution_count": null,
      "metadata": {
        "collapsed": true,
        "id": "ex6ZxnjVsDjn"
      },
      "outputs": [],
      "source": [
        "# Merge title_rating_df with title_basics_df\n",
        "imdb_df = pd.merge(title_rating_df, title_basics_df, left_on='tconst', right_on='tconst', how='left')\n",
        "imdb_df = pd.merge(imdb_df, title_crew_df, left_on='tconst', right_on='tconst', how='left')"
      ]
    },
    {
      "cell_type": "code",
      "execution_count": null,
      "metadata": {
        "id": "vqfzFBzn0E2A"
      },
      "outputs": [],
      "source": [
        "# Delete some variables such as title_rating_df, title_basic_df, title_crew_df, and name_basics_df to free the system RAM.\n",
        "\n",
        "del title_rating_df\n",
        "del title_basics_df\n",
        "del title_crew_df\n",
        "del name_basics_df"
      ]
    },
    {
      "cell_type": "code",
      "execution_count": null,
      "metadata": {
        "id": "ek3hDeaEwHu8"
      },
      "outputs": [],
      "source": [
        "print(imdb_df.shape)"
      ]
    },
    {
      "cell_type": "code",
      "execution_count": null,
      "metadata": {
        "id": "6rO9TzTfsF9M"
      },
      "outputs": [],
      "source": [
        "imdb_df.head(20)"
      ]
    },
    {
      "cell_type": "code",
      "execution_count": null,
      "metadata": {
        "id": "0nT1cCqi0w8c"
      },
      "outputs": [],
      "source": [
        "imdb_df.info()"
      ]
    },
    {
      "cell_type": "code",
      "execution_count": null,
      "metadata": {
        "id": "edMFPdB_vpRH"
      },
      "outputs": [],
      "source": [
        "# Number of duplicate movies in kaggle_df\n",
        "kaggle_df['imdb_id'].value_counts().max()"
      ]
    },
    {
      "cell_type": "code",
      "execution_count": null,
      "metadata": {
        "id": "fjOvHebxwklQ"
      },
      "outputs": [],
      "source": [
        "# Drop duplicate movies\n",
        "kaggle_df = kaggle_df.drop_duplicates(subset='imdb_id')"
      ]
    },
    {
      "cell_type": "code",
      "execution_count": null,
      "metadata": {
        "id": "eTKFOxfW8mH3"
      },
      "outputs": [],
      "source": [
        "# How many imdb_ids in kaggle_df exist in imdb_df?\n",
        "print(kaggle_df['imdb_id'].isin(imdb_df['tconst']).sum())"
      ]
    },
    {
      "cell_type": "code",
      "execution_count": null,
      "metadata": {
        "id": "-xGeOZra2uPx"
      },
      "outputs": [],
      "source": [
        "# Merge two dataframes\n",
        "merged_df = pd.merge(imdb_df, kaggle_df, left_on='tconst', right_on='imdb_id', how='left')\n",
        "print(merged_df.shape)"
      ]
    },
    {
      "cell_type": "code",
      "execution_count": null,
      "metadata": {
        "id": "tjmRMWeA1d-6"
      },
      "outputs": [],
      "source": [
        "del imdb_df\n",
        "del kaggle_df"
      ]
    },
    {
      "cell_type": "code",
      "execution_count": null,
      "metadata": {
        "id": "-Y20dVFDxabN"
      },
      "outputs": [],
      "source": [
        "print(merged_df.columns)"
      ]
    },
    {
      "cell_type": "code",
      "execution_count": null,
      "metadata": {
        "collapsed": true,
        "id": "j9pwZzWoUtv2"
      },
      "outputs": [],
      "source": [
        "# Drop the columns\n",
        "merged_df.drop(columns=['imdb_id'], inplace=True)"
      ]
    },
    {
      "cell_type": "code",
      "execution_count": null,
      "metadata": {
        "id": "CSvXHQ8pkfIz"
      },
      "outputs": [],
      "source": [
        "print(merged_df.shape)"
      ]
    },
    {
      "cell_type": "code",
      "execution_count": null,
      "metadata": {
        "id": "dCr1w3u89mzb"
      },
      "outputs": [],
      "source": [
        "merged_df.info()"
      ]
    },
    {
      "cell_type": "code",
      "execution_count": null,
      "metadata": {
        "id": "F35FcDaJ1pJo"
      },
      "outputs": [],
      "source": [
        "# Replace zero with NaN\n",
        "merged_df = merged_df.replace(0, np.nan)"
      ]
    },
    {
      "cell_type": "code",
      "execution_count": null,
      "metadata": {
        "id": "sipqfKJAEHOQ"
      },
      "outputs": [],
      "source": [
        "# Change datatypes to better handle the data\n",
        "\n",
        "# Convert 'startYear' to numeric, coercing errors to NaN\n",
        "merged_df['startYear'] = pd.to_numeric(merged_df['startYear'], errors='coerce').astype('Int64')\n",
        "\n",
        "# Convert 'runtimeMinutes' to numeric, coercing errors to NaN\n",
        "merged_df['runtimeMinutes'] = pd.to_numeric(merged_df['runtimeMinutes'], errors='coerce').astype('Int64')\n",
        "\n",
        "# Convert 'genres_x', 'keywords', 'production_companies', and 'production_countries' to a list of strings\n",
        "merged_df['genres'] = merged_df['genres'].apply(lambda x: x.split(',') if isinstance(x, str) else [])\n",
        "merged_df['keywords'] = merged_df['keywords'].apply(lambda x: x.split(',') if isinstance(x, str) else [])\n",
        "merged_df['production_companies'] = merged_df['production_companies'].apply(lambda x: x.split(',') if isinstance(x, str) else [])\n",
        "merged_df['production_countries'] = merged_df['production_countries'].apply(lambda x: x.split(',') if isinstance(x, str) else [])"
      ]
    },
    {
      "cell_type": "code",
      "execution_count": null,
      "metadata": {
        "id": "1ieUk8REt0-X"
      },
      "outputs": [],
      "source": [
        "merged_df.head()"
      ]
    },
    {
      "cell_type": "code",
      "execution_count": null,
      "metadata": {
        "id": "PQcrzLGdoN0l"
      },
      "outputs": [],
      "source": [
        "merged_df['titleType'].value_counts()"
      ]
    },
    {
      "cell_type": "code",
      "execution_count": null,
      "metadata": {
        "id": "iU7oKxcirHlG"
      },
      "outputs": [],
      "source": [
        "# Drop all samples in merged_df whose 'titleType' is 'tvEpisode', 'video', 'videoGame', 'tvSpecial', tvShort'.\n",
        "\n",
        "to_drop = ['tvEpisode', 'video', 'videoGame', 'tvSpecial', 'tvShort']\n",
        "merged_df = merged_df[~merged_df['titleType'].isin(to_drop)]"
      ]
    },
    {
      "cell_type": "code",
      "execution_count": null,
      "metadata": {
        "id": "EbwtqlPDmqu1"
      },
      "outputs": [],
      "source": [
        "merged_df.info()"
      ]
    },
    {
      "cell_type": "code",
      "execution_count": null,
      "metadata": {
        "id": "uzFx7gjR8UqJ"
      },
      "outputs": [],
      "source": [
        "merged_df.head(20)"
      ]
    },
    {
      "cell_type": "code",
      "execution_count": null,
      "metadata": {
        "id": "bg7agKz0k4Q5"
      },
      "outputs": [],
      "source": [
        "# New Feature: Profit\n",
        "merged_df['profit'] = merged_df['revenue'] - merged_df['budget']"
      ]
    },
    {
      "cell_type": "markdown",
      "metadata": {
        "id": "DrGydTyqmsSF"
      },
      "source": [
        "## **Weighted Rating**"
      ]
    },
    {
      "cell_type": "markdown",
      "metadata": {
        "id": "kUTcmyHPmi9n"
      },
      "source": [
        "![image.png](data:image/png;base64,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)"
      ]
    },
    {
      "cell_type": "code",
      "execution_count": null,
      "metadata": {
        "collapsed": true,
        "id": "WdnP6K9dESCa"
      },
      "outputs": [],
      "source": [
        "\"\"\" We need to identify top movies while considering both average rating\n",
        "    and number of votes => A new feature called \"Weighted Rating\" is needed. \"\"\"\n",
        "\n",
        "# WR = Weighted Rating\n",
        "# R = Average rating of the movie\n",
        "# v = Number of votes for the movie\n",
        "# m = Minimum number of votes required (a threshold, e.g., top 90th percentile of vote count)\n",
        "# C = Mean rating across all movies\n",
        "\n",
        "# Compute category-specific mean rating (C) for each category\n",
        "C = merged_df.groupby('titleType')['averageRating'].mean()\n",
        "\n",
        "# Compute m (minimum number of votes required, e.g., 90th percentile)\n",
        "m = merged_df['numVotes'].quantile(0.99)\n",
        "\n",
        "# Function to compute weighted rating\n",
        "def weighted_rating(row, m=m, C=C):\n",
        "    v = row['numVotes']\n",
        "    R = row['averageRating']\n",
        "    category = row['titleType']\n",
        "    C_category = C.get(category)\n",
        "    # If C_category is None, use the overall mean rating instead\n",
        "    if C_category is None:\n",
        "        C_category = merged_df['averageRating'].mean()\n",
        "    return (v / (v + m) * R) + (m / (v + m) * C_category)\n",
        "\n",
        "\n",
        "# Compute weighted rating for each movie\n",
        "merged_df['weightedRating'] = merged_df.apply(weighted_rating, axis=1)"
      ]
    },
    {
      "cell_type": "code",
      "execution_count": null,
      "metadata": {
        "id": "NTe81qBsfuRx"
      },
      "outputs": [],
      "source": [
        "top_movies = merged_df.sort_values(by='weightedRating', ascending=False)\n",
        "top_movies[['primaryTitle','averageRating','numVotes','startYear','runtimeMinutes','genres','directors','revenue','budget']].head()"
      ]
    },
    {
      "cell_type": "code",
      "execution_count": null,
      "metadata": {
        "id": "uQvLAVuC7ec2"
      },
      "outputs": [],
      "source": [
        "# # OPTIONAL: Save merge_df as a csv file and download it.\n",
        "\n",
        "# from google.colab import files\n",
        "# merged_df.to_csv('merged_df.csv', encoding = 'utf-8-sig')\n",
        "# files.download('merged_df.csv')"
      ]
    },
    {
      "cell_type": "markdown",
      "metadata": {
        "id": "sznks8xNnMS-"
      },
      "source": [
        "# ✅ **Step 3: Data Visualizations**"
      ]
    },
    {
      "cell_type": "markdown",
      "source": [
        "**1️⃣ Distribution of Movie Ratings**"
      ],
      "metadata": {
        "id": "y3IVWyHsCoJG"
      }
    },
    {
      "cell_type": "code",
      "execution_count": null,
      "metadata": {
        "id": "gmDvDsf9AYrh"
      },
      "outputs": [],
      "source": [
        "# Distribution of Movie Ratings\n",
        "\n",
        "plt.figure(figsize=(8, 5))\n",
        "filtered_df = merged_df[merged_df['titleType'] == 'movie']\n",
        "sns.histplot(filtered_df['averageRating'], bins=np.linspace(1, 10, 19), kde=True)\n",
        "plt.title(\"Distribution of Movie Ratings\", fontsize=14, fontweight=\"bold\")\n",
        "plt.xlabel(\"Average Rating\", fontsize=12)\n",
        "plt.ylabel(\"Frequency\", fontsize=12)\n",
        "plt.xticks(np.arange(1, 11, 1))\n",
        "plt.grid(axis=\"y\", linestyle=\"--\", alpha=0.6)\n",
        "plt.show()"
      ]
    },
    {
      "cell_type": "markdown",
      "source": [
        "**2️⃣ Runtime vs. Weighted Rating (for top 5000 movies)**"
      ],
      "metadata": {
        "id": "QdujETSBDgRU"
      }
    },
    {
      "cell_type": "code",
      "execution_count": null,
      "metadata": {
        "id": "PoivbcQQO7Ah"
      },
      "outputs": [],
      "source": [
        "# Runtime vs. Weighted Rating (for top 5000 movies)\n",
        "\n",
        "plt.figure(figsize=(8, 5))\n",
        "filtered_df = merged_df.sort_values('weightedRating', ascending=False)\n",
        "filtered_df = filtered_df[filtered_df['titleType'].isin(['movie', 'tvMovie'])]\n",
        "filtered_df_runtime_300 = filtered_df[filtered_df['runtimeMinutes'] < 300]\n",
        "filtered_df_5000 = filtered_df_runtime_300.head(5000)\n",
        "\n",
        "sns.scatterplot(x='runtimeMinutes', y='weightedRating', data=filtered_df_5000,\n",
        "                alpha=0.6, s=60, palette=\"viridis\", edgecolor=\"black\")\n",
        "\n",
        "# Trendline\n",
        "sns.regplot(x='runtimeMinutes', y='weightedRating', data=filtered_df_5000, scatter=False, color='red', line_kws={\"linewidth\": 1.5})\n",
        "\n",
        "plt.title('Runtime vs. Weighted Rating (for top 5000 movies)', fontsize=13, fontweight='bold')\n",
        "plt.xlabel('Runtime (minutes)', fontsize=11)\n",
        "plt.ylabel('Weighted Rating', fontsize=11)\n",
        "plt.show()"
      ]
    },
    {
      "cell_type": "markdown",
      "source": [
        "**3️⃣ Pearson Correlation Heatmap**"
      ],
      "metadata": {
        "id": "XzyNQFYCEOhc"
      }
    },
    {
      "cell_type": "code",
      "source": [
        "# Correlation matrix of numerical features (only for movies and tv movies)\n",
        "\n",
        "filtered_df = merged_df[merged_df['titleType'].isin(['movie', 'tvMovie'])]\n",
        "numerical_features = filtered_df[['averageRating', 'weightedRating',\n",
        "                                  'numVotes', 'startYear',\n",
        "                                  'runtimeMinutes', 'revenue',\n",
        "                                  'budget', 'profit']]\n",
        "\n",
        "correlation_matrix = numerical_features.corr()\n",
        "\n",
        "plt.figure(figsize=(8, 5))\n",
        "sns.heatmap(correlation_matrix, annot=True, cmap='coolwarm')\n",
        "plt.title('Pearson Correlation Heatmap', fontsize=13, fontweight='bold')\n",
        "plt.show()"
      ],
      "metadata": {
        "id": "ELwg4RBsEl4N"
      },
      "execution_count": null,
      "outputs": []
    },
    {
      "cell_type": "markdown",
      "source": [
        "**4️⃣ Revenue vs. Budget for Top 10 Movies**"
      ],
      "metadata": {
        "id": "6uGmW22fFgTy"
      }
    },
    {
      "cell_type": "code",
      "execution_count": null,
      "metadata": {
        "id": "ALxApKkpQBuJ"
      },
      "outputs": [],
      "source": [
        "# Revenue vs. Budget for Top 10 Movies\n",
        "\n",
        "filtered_df = merged_df[merged_df['titleType'].isin(['movie', 'tvMovie'])]\n",
        "top_10_movies = filtered_df.nlargest(10, 'weightedRating')\n",
        "\n",
        "movies = top_10_movies['primaryTitle']\n",
        "revenues = top_10_movies['revenue']\n",
        "budgets = top_10_movies['budget']\n",
        "\n",
        "x = np.arange(len(movies))  # X locations for bars\n",
        "width = 0.4  # Bar width\n",
        "\n",
        "plt.figure(figsize=(10, 6))\n",
        "\n",
        "# Plot revenue bars\n",
        "plt.bar(x - width/2, revenues/1e9, width, label='Revenue', color='dodgerblue')\n",
        "\n",
        "# Plot budget bars\n",
        "plt.bar(x + width/2, budgets/1e9, width, label='Budget', color='tomato')\n",
        "\n",
        "# Formatting\n",
        "plt.xticks(x, movies, rotation=45, ha='right')\n",
        "plt.xlabel('Movie Title', fontsize=12)\n",
        "plt.ylabel('Amount ($B)', fontsize=12)\n",
        "plt.title('Revenue vs. Budget for Top 10 Movies', fontsize=13, fontweight='bold')\n",
        "plt.legend()\n",
        "plt.show()"
      ]
    },
    {
      "cell_type": "markdown",
      "source": [
        "**5️⃣ Average Rating of Top 10 Most Common Movie Genres**"
      ],
      "metadata": {
        "id": "BQ5WtpRQGjAS"
      }
    },
    {
      "cell_type": "code",
      "source": [
        "# Average Rating of Top 10 Most Common Movie Genres\n",
        "\n",
        "# Assuming 'genres' column contains lists of genres\n",
        "genre_counts = {}\n",
        "for index, row in merged_df.iterrows():\n",
        "    if row['titleType'] == 'movie':\n",
        "      for genre in row['genres']:\n",
        "          if genre in genre_counts:\n",
        "              genre_counts[genre] += 1\n",
        "          else:\n",
        "              genre_counts[genre] = 1\n",
        "\n",
        "# Sort the genres by count in descending order\n",
        "sorted_genres = dict(sorted(genre_counts.items(), key=lambda item: item[1], reverse=True))\n",
        "\n",
        "# Get the top 10 most common genres\n",
        "top_10_genres = list(sorted_genres.keys())[:10]\n",
        "\n",
        "# Calculate average rating for each of the top 10 genres\n",
        "average_ratings = {}\n",
        "for genre in top_10_genres:\n",
        "  genre_movies = merged_df[(merged_df['titleType'] == 'movie') & (merged_df['genres'].apply(lambda x: genre in x))]\n",
        "  average_ratings[genre] = genre_movies['averageRating'].mean()\n",
        "\n",
        "# Sort the average ratings in descending order\n",
        "sorted_average_ratings = dict(sorted(average_ratings.items(), key=lambda item: item[1], reverse=True))\n",
        "\n",
        "# Create the bar plot\n",
        "plt.figure(figsize=(10, 6))\n",
        "plt.bar(sorted_average_ratings.keys(), sorted_average_ratings.values(), width=0.6)\n",
        "plt.xlabel(\"Genres\", fontsize=13)\n",
        "plt.ylabel(\"Average Rating\", fontsize=13)\n",
        "plt.title(\"Average Rating of Top 10 Most Common Movie Genres\", fontsize=13, fontweight='bold')\n",
        "plt.xticks(rotation=45, ha='right')  # Rotate x-axis labels for better readability\n",
        "plt.tight_layout()\n",
        "plt.show()"
      ],
      "metadata": {
        "id": "woDWDM6lGvg5"
      },
      "execution_count": null,
      "outputs": []
    },
    {
      "cell_type": "markdown",
      "source": [
        " **6️⃣ Interactive Plot of Revenue vs. Budget**"
      ],
      "metadata": {
        "id": "6JHCYDI1ICzJ"
      }
    },
    {
      "cell_type": "code",
      "source": [
        "# Interactive Plot of Revenue vs. Budget\n",
        "\n",
        "fig = px.scatter(merged_df,\n",
        "                 x='budget',\n",
        "                 y='revenue',\n",
        "                 color='averageRating',\n",
        "                 hover_data=['primaryTitle'],\n",
        "                 title='Revenue vs. Budget',\n",
        "                 trendline=\"ols\")\n",
        "\n",
        "fig.update_xaxes(title_text=\"Budget\", range=[0, 500e6])\n",
        "fig.update_yaxes(title_text=\"Revenue\")\n",
        "fig.update_layout(width=800)\n",
        "\n",
        "fig.show()"
      ],
      "metadata": {
        "id": "b9fZNZVhIUbh"
      },
      "execution_count": null,
      "outputs": []
    },
    {
      "cell_type": "markdown",
      "source": [
        " **7️⃣ Distribution of Movie Runtimes for Top 250 Movies**"
      ],
      "metadata": {
        "id": "InJtGTXQI5-o"
      }
    },
    {
      "cell_type": "code",
      "source": [
        "# Distribution of Movie Runtimes for Top 250 Movies\n",
        "\n",
        "filtered_df = merged_df[(merged_df['titleType'] == 'movie')]\n",
        "filtered_df = filtered_df.nlargest(250, 'weightedRating')\n",
        "\n",
        "plt.figure(figsize=(10,6))\n",
        "sns.histplot(filtered_df['runtimeMinutes'], bins=np.linspace(80, 240, 17), kde=True)\n",
        "plt.title('Distribution of Movie Runtimes for Top 250 Movies',\n",
        "          fontsize=13, fontweight='bold')\n",
        "plt.xlabel('Runtime (Minutes)')\n",
        "plt.ylabel('Number of Movies')\n",
        "plt.show()"
      ],
      "metadata": {
        "id": "jc_aVagOJGxx"
      },
      "execution_count": null,
      "outputs": []
    },
    {
      "cell_type": "markdown",
      "source": [
        " **8️⃣ Average Movie Rating by Year**"
      ],
      "metadata": {
        "id": "tnJcvFKTJjjY"
      }
    },
    {
      "cell_type": "code",
      "source": [
        "# Average Movie Rating by Year\n",
        "\n",
        "ratings_by_year = merged_df.groupby('startYear')['averageRating'].mean()\n",
        "\n",
        "plt.figure(figsize=(12,6))\n",
        "ratings_by_year.plot()\n",
        "plt.title('Average Movie Rating by Year', fontsize=13, fontweight='bold')\n",
        "plt.xlabel('Year')\n",
        "plt.ylabel('Average Rating')\n",
        "plt.xlim(1900) # The lower limit\n",
        "plt.grid()\n",
        "plt.show()"
      ],
      "metadata": {
        "id": "7gYxmk0nJsbw"
      },
      "execution_count": null,
      "outputs": []
    },
    {
      "cell_type": "markdown",
      "source": [
        " **9️⃣ Average Movie Rating by Decade**"
      ],
      "metadata": {
        "id": "1eRM3e-CLErQ"
      }
    },
    {
      "cell_type": "code",
      "source": [
        "# Average Movie Rating by Decade\n",
        "\n",
        "filtered_df = merged_df[merged_df['startYear'].between(1900, 2025)].copy()\n",
        "filtered_df['decade'] = (filtered_df['startYear'] // 10) * 10  # Group by decade\n",
        "\n",
        "ratings_by_decade = filtered_df.groupby('decade')['averageRating'].mean().reset_index()\n",
        "\n",
        "plt.figure(figsize=(12, 6))\n",
        "\n",
        "sns.lineplot(data=ratings_by_decade, x='decade', y='averageRating', marker='o', linewidth=2)\n",
        "\n",
        "plt.xlabel('Decade')\n",
        "plt.ylabel('Average Movie Rating')\n",
        "plt.title('Average Movie Rating by Decade', fontsize=13, fontweight='bold')\n",
        "plt.xticks(np.arange(1900, 2030, 10))  # Ensure proper decade labeling\n",
        "plt.grid(True, linestyle='--', alpha=0.6)\n",
        "plt.show()"
      ],
      "metadata": {
        "id": "9aQ5AUYwKYix"
      },
      "execution_count": null,
      "outputs": []
    },
    {
      "cell_type": "markdown",
      "source": [
        " **1️⃣0️⃣ Top 15 Production Companies by Total Profit**"
      ],
      "metadata": {
        "id": "1omxzrmeLT5Z"
      }
    },
    {
      "cell_type": "code",
      "source": [
        "# Top 15 Production Companies by Total Profit\n",
        "\n",
        "top_producers = merged_df.copy()\n",
        "top_producers['production_companies'] = top_producers['production_companies'].apply(lambda x: x if isinstance(x, list) else [x])\n",
        "top_producers = top_producers.explode('production_companies')\n",
        "top_producers['production_companies'] = top_producers['production_companies'].str.strip()\n",
        "\n",
        "# Aggregate profit by production company\n",
        "top_companies = (top_producers.groupby('production_companies', as_index=False)['profit']\n",
        "                 .sum()\n",
        "                 .nlargest(15, 'profit'))  # Get top 15\n",
        "\n",
        "top_companies['profit'] = top_companies['profit'].apply(lambda x: x / 1e9)  # Convert to billion\n",
        "\n",
        "plt.figure(figsize=(12, 6))\n",
        "sns.barplot(data=top_companies, x='profit', y='production_companies')\n",
        "plt.xlabel('Total Profit ($B)')\n",
        "plt.ylabel('Production Company')\n",
        "plt.title('Top 15 Production Companies by Total Profit', fontsize=13, fontweight='bold')\n",
        "plt.grid(axis='x', linestyle='--', alpha=0.6)\n",
        "plt.show()"
      ],
      "metadata": {
        "id": "qxBKlM3sMP0n"
      },
      "execution_count": null,
      "outputs": []
    },
    {
      "cell_type": "markdown",
      "source": [
        " **1️⃣1️⃣ Budget vs. Revenue of Top Companies with Ratings as Bubble Size**"
      ],
      "metadata": {
        "id": "2uHvAejAN97-"
      }
    },
    {
      "cell_type": "code",
      "source": [
        "# Budget vs Revenue of Top Companies with Ratings as Bubble Size\n",
        "\n",
        "import plotly.graph_objects as go\n",
        "\n",
        "# Calculate total budget, revenue, and average rating for each company\n",
        "company_data = []\n",
        "for company in top_companies['production_companies']:\n",
        "    company_df = merged_df[merged_df['production_companies'].apply(lambda x: company in x) ]\n",
        "    total_budget = company_df['budget'].sum()\n",
        "    total_revenue = company_df['revenue'].sum()\n",
        "    avg_rating = company_df['averageRating'].mean()\n",
        "    company_data.append([company, total_budget, total_revenue, avg_rating])\n",
        "\n",
        "company_df = pd.DataFrame(company_data, columns=['Company', 'Total Budget', 'Total Revenue', 'Average Rating'])\n",
        "company_df['Average Rating'] = (company_df['Average Rating']-6)*500\n",
        "\n",
        "fig = go.Figure(data=[go.Scatter(\n",
        "    x=company_df['Total Budget'],\n",
        "    y=company_df['Total Revenue'],\n",
        "    mode='markers+text',\n",
        "    marker=dict(\n",
        "        size=company_df['Average Rating'] * 10,\n",
        "        sizemode='area'\n",
        "    ),\n",
        "    text=company_df['Company'],\n",
        "    textposition=\"top center\"\n",
        ")])\n",
        "\n",
        "fig.update_layout(\n",
        "    title='Bubble Chart of Top Companies',\n",
        "    xaxis_title='Total Budget',\n",
        "    yaxis_title='Total Revenue',\n",
        "    xaxis_range=[0, max(company_df['Total Budget']) * 1.1],  # Set x-axis range to start at 0\n",
        "    yaxis_range=[0, max(company_df['Total Revenue']) * 1.2],  # Set y-axis range to start at 0\n",
        "    autosize=False,\n",
        "    width=2000,  # Adjust width\n",
        "    height=1000\n",
        ")\n",
        "\n",
        "fig.show()"
      ],
      "metadata": {
        "id": "-CU2eHq4N5HN"
      },
      "execution_count": null,
      "outputs": []
    },
    {
      "cell_type": "markdown",
      "source": [
        " **1️⃣2️⃣ Evolution of Movie Genres Over Time (Top 10 Genres)**"
      ],
      "metadata": {
        "id": "_xtrq3jJPhTl"
      }
    },
    {
      "cell_type": "code",
      "source": [
        "# Evolution of Movie Genres Over Time (Top 10 Genres)\n",
        "\n",
        "# Explode genres column if it contains multiple genres per movie\n",
        "filtered_df = merged_df[merged_df['startYear'].between(1900, 2019)].copy()\n",
        "filtered_df = filtered_df.dropna(subset=['genres'])\n",
        "filtered_df = filtered_df[filtered_df['genres'].apply(lambda x: isinstance(x, list))]  # Ensure genres is a list\n",
        "filtered_df = filtered_df.explode('genres')\n",
        "\n",
        "# Remove empty genre entries\n",
        "filtered_df = filtered_df[filtered_df['genres'].str.strip() != '']\n",
        "\n",
        "# Filter only for top 10 genres\n",
        "filtered_df = filtered_df[filtered_df['genres'].isin(top_10_genres)]\n",
        "\n",
        "# Extract decade\n",
        "filtered_df['decade'] = (filtered_df['startYear'] // 10) * 10\n",
        "\n",
        "# Count the number of movies per genre per decade\n",
        "genre_counts = filtered_df.groupby(['decade', 'genres']).size().reset_index(name='count')\n",
        "\n",
        "genre_pivot = genre_counts.pivot(index='decade', columns='genres', values='count').fillna(0)\n",
        "\n",
        "plt.figure(figsize=(12, 6))\n",
        "genre_pivot.plot(kind='line', marker='o', linewidth=2, figsize=(12, 6), colormap='tab10')\n",
        "plt.xlabel('Decade')\n",
        "plt.ylabel('Number of Movies')\n",
        "plt.title('Evolution of Movie Genres Over Time (Top 10 Genres)', fontsize=13, fontweight='bold')\n",
        "plt.legend(title='Genres', bbox_to_anchor=(1.05, 1), loc='upper left')\n",
        "plt.grid(True, linestyle='--', alpha=0.5)\n",
        "plt.xticks(range(1900, 2030, 10))\n",
        "plt.show()"
      ],
      "metadata": {
        "id": "F88uSseJPodT"
      },
      "execution_count": null,
      "outputs": []
    },
    {
      "cell_type": "markdown",
      "source": [
        " **1️⃣3️⃣ Trend of Popular Movie Keywords Over Time**"
      ],
      "metadata": {
        "id": "v8mlU7acQ8HE"
      }
    },
    {
      "cell_type": "code",
      "source": [
        "# Trend of Popular Movie Keywords Over Time\n",
        "\n",
        "# Ensure valid years and extract decade\n",
        "filtered_df = merged_df[merged_df['startYear'].between(1900, 2025)].copy()\n",
        "filtered_df = filtered_df.dropna(subset=['keywords'])\n",
        "filtered_df = filtered_df[filtered_df['keywords'].apply(lambda x: isinstance(x, list))]  # Ensure keywords is a list\n",
        "\n",
        "# Explode keywords to separate rows\n",
        "filtered_df = filtered_df.explode('keywords')\n",
        "filtered_df['keywords'] = filtered_df['keywords'].str.strip()\n",
        "\n",
        "# Remove empty keyword entries\n",
        "filtered_df = filtered_df[filtered_df['keywords'].str.strip() != '']\n",
        "\n",
        "# Extract decade\n",
        "filtered_df['decade'] = (filtered_df['startYear'] // 10) * 10\n",
        "\n",
        "# Count keyword occurrences per decade\n",
        "keyword_counts = filtered_df.groupby(['decade', 'keywords']).size().reset_index(name='count')\n",
        "\n",
        "# Identify top N keywords (e.g., 10 most frequent ones overall)\n",
        "top_keywords = keyword_counts.groupby('keywords')['count'].sum().nlargest(10).index\n",
        "keyword_counts = keyword_counts[keyword_counts['keywords'].isin(top_keywords)]\n",
        "\n",
        "keyword_pivot = keyword_counts.pivot(index='decade', columns='keywords', values='count').fillna(0)\n",
        "\n",
        "plt.figure(figsize=(12, 6))\n",
        "keyword_pivot.plot(kind='line', marker='o', linewidth=2, figsize=(12, 6), colormap='tab10')\n",
        "plt.xlabel('Decade')\n",
        "plt.ylabel('Keyword Frequency')\n",
        "plt.title('Trend of Popular Movie Keywords Over Time', fontsize=13, fontweight='bold')\n",
        "plt.legend(title='Keywords', bbox_to_anchor=(1.05, 1), loc='upper left')\n",
        "plt.grid(True, linestyle='--', alpha=0.5)\n",
        "plt.xticks(range(1900, 2030, 10))  # Ensure proper decade labeling\n",
        "plt.show()"
      ],
      "metadata": {
        "id": "5avk9a20RCD0"
      },
      "execution_count": null,
      "outputs": []
    },
    {
      "cell_type": "markdown",
      "source": [
        " **1️⃣4️⃣ Top 10 Most-Voted Directors Ranked by Average Movie Ratings**"
      ],
      "metadata": {
        "id": "Lks28AE6TD2b"
      }
    },
    {
      "cell_type": "code",
      "source": [
        "# Top 10 Most-Voted Directors Ranked by Average Movie Ratings\n",
        "\n",
        "# Group by director and sum numVotes\n",
        "director_votes = merged_df.groupby('directors')['numVotes'].sum().reset_index()\n",
        "\n",
        "# Sort by numVotes in descending order and get the top 10\n",
        "top_10_directors = director_votes.sort_values('numVotes', ascending=False).head(10)\n",
        "\n",
        "# Calculate the average rating for each director\n",
        "director_avg_ratings = {}\n",
        "for director in top_10_directors['directors']:\n",
        "    director_movies = merged_df[merged_df['directors'] == director]\n",
        "    avg_rating = director_movies['averageRating'].mean()\n",
        "    director_avg_ratings[director] = avg_rating\n",
        "\n",
        "# Create a DataFrame for plotting\n",
        "plot_df = pd.DataFrame({'directors': director_avg_ratings.keys(),\n",
        "                       'averageRating': director_avg_ratings.values()})\n",
        "\n",
        "# Sort by averageRating in descending order\n",
        "plot_df = plot_df.sort_values('averageRating', ascending=False)\n",
        "\n",
        "plt.figure(figsize=(10, 6))\n",
        "plt.barh(plot_df['directors'], plot_df['averageRating'])\n",
        "plt.xlabel('Average Rating')\n",
        "plt.ylabel('Director')\n",
        "plt.title('Top 10 Most-Voted Directors Ranked by Average Movie Ratings', fontsize=13, fontweight='bold')\n",
        "plt.gca().invert_yaxis()\n",
        "plt.tight_layout()\n",
        "plt.show()"
      ],
      "metadata": {
        "id": "3_bT--OzS95-"
      },
      "execution_count": null,
      "outputs": []
    },
    {
      "cell_type": "markdown",
      "source": [
        " **1️⃣5️⃣ Global Distribution of Movies (Log Scale by Country)**"
      ],
      "metadata": {
        "id": "A4ZJPUu7XnvB"
      }
    },
    {
      "cell_type": "code",
      "source": [
        "# Global Distribution of Movies (Log Scale by Country)\n",
        "\n",
        "# Ensure production_countries is a list\n",
        "def extract_countries(country_list):\n",
        "    if isinstance(country_list, str):\n",
        "        try:\n",
        "            evaluated = ast.literal_eval(country_list)\n",
        "            return evaluated if isinstance(evaluated, list) else []\n",
        "        except:\n",
        "            return []\n",
        "    return country_list if isinstance(country_list, list) else []\n",
        "\n",
        "filtered_df['production_countries'] = merged_df['production_countries'].apply(extract_countries)\n",
        "all_countries = [country for sublist in filtered_df['production_countries'] for country in sublist]\n",
        "country_counts = Counter(all_countries)\n",
        "country_df = pd.DataFrame(country_counts.items(), columns=['country', 'movie_count'])\n",
        "country_df['log_count'] = np.log1p(country_df['movie_count'])\n",
        "\n",
        "fig = px.choropleth(\n",
        "    country_df,\n",
        "    locations='country',\n",
        "    locationmode='country names',\n",
        "    color='log_count',\n",
        "    hover_name='country',\n",
        "    hover_data={'movie_count': True, 'log_count': True},\n",
        "    color_continuous_scale='Blues',\n",
        "    range_color=[0, country_df['log_count'].max()],\n",
        "    title='Global Distribution of Movies (Log Scale by Country)'\n",
        ")\n",
        "\n",
        "fig.update_geos(\n",
        "    showcoastlines=True,\n",
        "    coastlinecolor=\"Black\",\n",
        "    showland=True,\n",
        "    landcolor=\"white\",\n",
        "    showocean=True,\n",
        "    oceancolor=\"lightblue\",\n",
        ")\n",
        "fig.update_layout(width=1800, height=900)\n",
        "fig.show()"
      ],
      "metadata": {
        "id": "PDcEZMPqZyMp"
      },
      "execution_count": null,
      "outputs": []
    },
    {
      "cell_type": "markdown",
      "source": [
        "# ✅ **Step 4: Predictive Modeling**"
      ],
      "metadata": {
        "id": "wwcbhatgatbu"
      }
    },
    {
      "cell_type": "markdown",
      "metadata": {
        "id": "0w-v5WgVXc3o"
      },
      "source": [
        "**1️⃣ Movie Revenue Prediction (using Random Forest and XGBoost)**"
      ]
    },
    {
      "cell_type": "code",
      "source": [
        "df = merged_df.copy()\n",
        "\n",
        "# Filter to movies with valid revenue and budget\n",
        "df = df[(df['revenue'] > 0) & (df['budget'] > 1_000)]\n",
        "\n",
        "# Fill useful numeric features with median + create missing flags\n",
        "numeric_cols = ['runtimeMinutes', 'startYear', 'numVotes']\n",
        "for col in numeric_cols:\n",
        "    df[f'{col}_missing'] = df[col].isnull().astype(int)\n",
        "    df[col].fillna(df[col].median(), inplace=True)\n",
        "\n",
        "# Fill categorical features with 'Unknown'\n",
        "cat_cols = ['original_language', 'genres', 'production_companies', 'production_countries']\n",
        "for col in cat_cols:\n",
        "    df[col] = df[col].fillna('Unknown')\n",
        "\n",
        "# Convert 'genres' and 'production_companies' (which are lists) into single values\n",
        "# Use most common values\n",
        "all_genres = df['genres'].explode()\n",
        "top_genres = all_genres.value_counts().nlargest(10).index\n",
        "\n",
        "def pick_top_genre(genres_list):\n",
        "    if isinstance(genres_list, list):\n",
        "        for genre in genres_list:\n",
        "            if genre in top_genres:\n",
        "                return genre\n",
        "        return 'Other'\n",
        "    else:\n",
        "        return genres_list if genres_list in top_genres else 'Other'\n",
        "\n",
        "df['genres'] = df['genres'].apply(pick_top_genre)\n",
        "\n",
        "\n",
        "all_companies = df['production_companies'].explode()\n",
        "top_companies = all_companies.value_counts().nlargest(10).index\n",
        "\n",
        "def pick_top_company(companies_list):\n",
        "    if isinstance(companies_list, list):\n",
        "        for company in companies_list:\n",
        "            if company in top_companies:\n",
        "                return company\n",
        "        return 'Other'\n",
        "    else:\n",
        "        return companies_list if companies_list in top_companies else 'Other'\n",
        "\n",
        "df['production_companies'] = df['production_companies'].apply(pick_top_company)\n",
        "\n",
        "# Drop complex list-based columns\n",
        "df.drop(columns=['nconst_x', 'nconst_y', 'directors', 'writers', 'overview', 'keywords', 'production_countries'], inplace=True)\n",
        "\n",
        "# Target variable\n",
        "df['log_revenue'] = np.log1p(df['revenue'])\n",
        "\n",
        "# One-hot encode categorical columns\n",
        "df = pd.get_dummies(df, columns=['genres', 'original_language', 'production_companies'])\n",
        "\n",
        "# Final features and target\n",
        "X = df.drop(columns=['tconst', 'titleType', 'primaryTitle', 'revenue', 'profit', 'log_revenue'])\n",
        "y = df['log_revenue']\n",
        "\n",
        "print(f\"Final cleaned dataset shape: {X.shape}\")\n",
        "\n",
        "X_train, X_test, y_train, y_test = train_test_split(X, y, test_size=0.2, random_state=42)\n",
        "\n",
        "models = {\n",
        "    \"XGBoost\": XGBRegressor(n_estimators=200, max_depth=6, random_state=42),\n",
        "    \"Random Forest\": RandomForestRegressor(n_estimators=200, max_depth=10, random_state=42)\n",
        "}\n",
        "\n",
        "for name, model in models.items():\n",
        "    model.fit(X_train, y_train)\n",
        "\n",
        "    # Predict on test set\n",
        "    y_pred_log = model.predict(X_test)\n",
        "    y_pred_real = np.expm1(y_pred_log)\n",
        "    y_test_real = np.expm1(y_test)\n",
        "\n",
        "    mae = mean_absolute_error(y_test_real, y_pred_real)\n",
        "    mse = mean_squared_error(y_test_real, y_pred_real)\n",
        "    r2 = r2_score(y_test_real, y_pred_real)\n",
        "\n",
        "    y_cv_pred_log = cross_val_predict(model, X, y, cv=5)\n",
        "    y_cv_pred_real = np.expm1(y_cv_pred_log)\n",
        "    y_real = np.expm1(y)\n",
        "    cv_mae = mean_absolute_error(y_real, y_cv_pred_real)\n",
        "\n",
        "    print()\n",
        "    print(f\"  * {name}:\")\n",
        "    print(f\"  - MAE (Real Revenue): ${mae:,.2f}\")\n",
        "    print(f\"  - Cross-Validated MAE: ${cv_mae:,.2f}\")\n",
        "    print(f\"  - R² Score: {r2:.3f}\")\n",
        "\n",
        "    plt.figure(figsize=(8,6))\n",
        "    plt.scatter(y_test_real, y_pred_real, alpha=0.4, edgecolors='k')\n",
        "    plt.plot([1e5, 1e10], [1e5, 1e10], 'r--')\n",
        "    plt.xscale('log')\n",
        "    plt.yscale('log')\n",
        "    plt.xlabel(\"True Revenue\")\n",
        "    plt.ylabel(\"Predicted Revenue\")\n",
        "    plt.title(f\"{name}: True vs Predicted Revenue\")\n",
        "    plt.grid(True)\n",
        "    plt.tight_layout()\n",
        "    plt.show()"
      ],
      "metadata": {
        "id": "eBpwrdc8t-TY"
      },
      "execution_count": null,
      "outputs": []
    },
    {
      "cell_type": "markdown",
      "source": [
        "**2️⃣ Movie Rating Prediction (using Random Forest and XGBoost)**"
      ],
      "metadata": {
        "id": "6COcf1D8RRmu"
      }
    },
    {
      "cell_type": "code",
      "source": [
        "# Features and target\n",
        "features = ['numVotes', 'startYear', 'runtimeMinutes', 'budget', 'revenue', 'averageRating']\n",
        "\n",
        "filtered_df = merged_df[features].copy()\n",
        "\n",
        "# Drop rows with missing data\n",
        "filtered_df.dropna(axis=0, how='any', inplace=True)\n",
        "\n",
        "X = filtered_df[features[:-1]]  # all features except target\n",
        "y = filtered_df['averageRating']  # target without division by 10\n",
        "\n",
        "X_train, X_test, y_train, y_test = train_test_split(X, y, test_size=0.2, random_state=42)\n",
        "\n",
        "models = {\n",
        "    \"XGBoost\": XGBRegressor(n_estimators=200, max_depth=6, random_state=42),\n",
        "    \"Random Forest\": RandomForestRegressor(n_estimators=200, max_depth=10, random_state=42)\n",
        "}\n",
        "\n",
        "for name, model in models.items():\n",
        "    model.fit(X_train, y_train)\n",
        "\n",
        "    y_pred = model.predict(X_test)\n",
        "\n",
        "    mse = mean_squared_error(y_test, y_pred)\n",
        "    mae = mean_absolute_error(y_test, y_pred)\n",
        "    r2 = r2_score(y_test, y_pred)\n",
        "\n",
        "    print(f\"  * {name}:\")\n",
        "    print(f\"  - MSE: {mse:.2f}\")\n",
        "    print(f\"  - MAE: {mae:.2f}\")\n",
        "    print(f\"  - R² Score: {r2:.2f}\")\n",
        "    print()"
      ],
      "metadata": {
        "id": "rS-ZaQ7yfNL0"
      },
      "execution_count": null,
      "outputs": []
    },
    {
      "cell_type": "code",
      "source": [
        "# # Visualizing the random forest.\n",
        "\n",
        "# from sklearn.tree import export_graphviz\n",
        "# import pydotplus\n",
        "# from IPython.display import Image\n",
        "\n",
        "# # Extract a single tree from the forest (you can change the index)\n",
        "# tree_index = 0\n",
        "# tree = rf_model.estimators_[tree_index]\n",
        "\n",
        "# # Export the tree to DOT format\n",
        "# dot_data = export_graphviz(\n",
        "#     tree,\n",
        "#     out_file=None,\n",
        "#     feature_names=X.columns,  # Use the correct feature names\n",
        "#     filled=True,\n",
        "#     rounded=True,\n",
        "#     special_characters=True\n",
        "# )\n",
        "\n",
        "# # Convert DOT data to a graph\n",
        "# graph = pydotplus.graph_from_dot_data(dot_data)\n",
        "\n",
        "# # Display the graph\n",
        "# Image(graph.create_png())"
      ],
      "metadata": {
        "id": "A1YMWcXofgaq"
      },
      "execution_count": null,
      "outputs": []
    }
  ],
  "metadata": {
    "colab": {
      "provenance": [],
      "collapsed_sections": [
        "b_d_9q6WBMqS",
        "gA3ffhcNAtJW",
        "QTGNfzA-nCno",
        "sznks8xNnMS-"
      ]
    },
    "kernelspec": {
      "display_name": "Python 3",
      "name": "python3"
    },
    "language_info": {
      "name": "python"
    }
  },
  "nbformat": 4,
  "nbformat_minor": 0
}